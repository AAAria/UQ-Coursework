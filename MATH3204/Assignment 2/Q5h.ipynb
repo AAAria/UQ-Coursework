{
 "cells": [
  {
   "cell_type": "markdown",
   "metadata": {},
   "source": [
    "### Q5 (h) "
   ]
  },
  {
   "cell_type": "code",
   "execution_count": 1,
   "metadata": {},
   "outputs": [],
   "source": [
    "import time\n",
    "import numpy as np\n",
    "from scipy import sparse\n",
    "from scipy.sparse import spdiags\n",
    "from scipy.sparse import kron\n",
    "from scipy.sparse import eye\n",
    "from scipy.sparse import linalg\n",
    "from scipy.sparse.linalg import eigs"
   ]
  },
  {
   "cell_type": "code",
   "execution_count": 2,
   "metadata": {},
   "outputs": [],
   "source": [
    "def lcd(beta, gamma, N):\n",
    "    ee = np.ones((1,N))\n",
    "    a = 5\n",
    "    b = -1 - gamma\n",
    "    c = -1 - beta\n",
    "    d = -1 + beta\n",
    "    e = -1 + gamma\n",
    "    t1 = sparse.spdiags(np.vstack([c*ee, a*ee, d*ee]), np.arange(-1,2), N, N)\n",
    "    t2 = sparse.spdiags(np.vstack([b*ee, np.zeros((1,N)), e*ee]), np.arange(-1,2), N, N)\n",
    "    matrix = sparse.kron(sparse.eye(N,N),t1) + sparse.kron(t2,sparse.eye(N,N))\n",
    "    return matrix"
   ]
  },
  {
   "cell_type": "code",
   "execution_count": 3,
   "metadata": {},
   "outputs": [],
   "source": [
    "tol = 1e-12 # tolerance of errors\n",
    "A = lcd(0,0,50)\n",
    "vals, vecs = np.linalg.eig(A.toarray())\n",
    "alpha = 2/(max(vals) + min(vals))\n",
    "beta = 1 - (2*max(vals)/(max(vals)-min(vals)))"
   ]
  },
  {
   "cell_type": "code",
   "execution_count": 4,
   "metadata": {},
   "outputs": [],
   "source": [
    "# stationary version\n",
    "x = np.zeros((2500,1))\n",
    "b = np.ones((2500,1))\n",
    "e_norm1 = np.linalg.norm(b - A*x)\n",
    "k = 0\n",
    "while e_norm1 >= tol and k < 20000:\n",
    "    r = b - A*x\n",
    "    x = x + alpha * r\n",
    "    e_norm1 = np.linalg.norm(r)\n",
    "    k = k + 1"
   ]
  },
  {
   "cell_type": "code",
   "execution_count": 5,
   "metadata": {},
   "outputs": [],
   "source": [
    "# acceleration\n",
    "x0 = np.zeros((2500,1))\n",
    "b = np.ones((2500,1))\n",
    "e_norm2 = np.linalg.norm(b - A*x0)\n",
    "x1 = x0 + alpha * e_norm2\n",
    "w = 2\n",
    "n = 0\n",
    "while e_norm2 >= tol and n < 20000:\n",
    "    r = b - A*x1\n",
    "    w = (1 - (w/(4*beta**2)))**(-1)\n",
    "    x2 = x0 + alpha * w * r + w*(x1-x0)\n",
    "    x0 = x1\n",
    "    x1 = x2\n",
    "    e_norm2 = np.linalg.norm(r)\n",
    "    n = n + 1"
   ]
  },
  {
   "cell_type": "code",
   "execution_count": 6,
   "metadata": {},
   "outputs": [
    {
     "name": "stdout",
     "output_type": "stream",
     "text": [
      "8.683687935579432e-13\n",
      "141\n",
      "6.653483407327103e-13\n",
      "56\n"
     ]
    }
   ],
   "source": [
    "print(e_norm1)\n",
    "print(k)\n",
    "print(e_norm2)\n",
    "print(n)"
   ]
  },
  {
   "cell_type": "markdown",
   "metadata": {},
   "source": [
    "Implementing the accelerated variant takes much fewer iterations than the original stationary version. "
   ]
  },
  {
   "cell_type": "code",
   "execution_count": null,
   "metadata": {},
   "outputs": [],
   "source": []
  }
 ],
 "metadata": {
  "kernelspec": {
   "display_name": "Python 3",
   "language": "python",
   "name": "python3"
  },
  "language_info": {
   "codemirror_mode": {
    "name": "ipython",
    "version": 3
   },
   "file_extension": ".py",
   "mimetype": "text/x-python",
   "name": "python",
   "nbconvert_exporter": "python",
   "pygments_lexer": "ipython3",
   "version": "3.8.3"
  }
 },
 "nbformat": 4,
 "nbformat_minor": 4
}
