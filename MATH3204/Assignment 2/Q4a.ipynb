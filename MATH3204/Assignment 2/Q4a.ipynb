{
 "cells": [
  {
   "cell_type": "markdown",
   "metadata": {},
   "source": [
    "### Q4 (a)"
   ]
  },
  {
   "cell_type": "code",
   "execution_count": 1,
   "metadata": {},
   "outputs": [],
   "source": [
    "import numpy as np\n",
    "import matplotlib.pyplot as plt\n",
    "import time"
   ]
  },
  {
   "cell_type": "code",
   "execution_count": 2,
   "metadata": {},
   "outputs": [
    {
     "data": {
      "text/plain": [
       "<matplotlib.legend.Legend at 0x1c3049f1af0>"
      ]
     },
     "execution_count": 2,
     "metadata": {},
     "output_type": "execute_result"
    },
    {
     "data": {
      "image/png": "[encoded data removed]",
      "text/plain": [
       "<Figure size 432x288 with 1 Axes>"
      ]
     },
     "metadata": {
      "needs_background": "light"
     },
     "output_type": "display_data"
    }
   ],
   "source": [
    "num = [100,200,500,1000,2000,5000,10000]\n",
    "time1 = [] \n",
    "time2 = []\n",
    "\n",
    "for n in num:\n",
    "    A = np.random.rand(n,n)\n",
    "    b = np.ones((n,1))\n",
    "    # time taken using inv\n",
    "    start1 = time.time()\n",
    "    x = np.linalg.inv(A)*b\n",
    "    end1 = time.time()\n",
    "    time1.append(end1-start1)\n",
    "    # time taken using backslash\n",
    "    start2 = time.time()\n",
    "    x = np.linalg.solve(A,b)\n",
    "    end2 = time.time()\n",
    "    time2.append(end2-start2)\n",
    "\n",
    "plt.xlabel('n')\n",
    "plt.ylabel('time')\n",
    "plt.plot(num,time1, 'r',label='inv')\n",
    "plt.plot(num,time2, 'b',label='backslash')\n",
    "plt.legend(loc='best')"
   ]
  },
  {
   "cell_type": "code",
   "execution_count": null,
   "metadata": {},
   "outputs": [],
   "source": []
  }
 ],
 "metadata": {
  "kernelspec": {
   "display_name": "Python 3",
   "language": "python",
   "name": "python3"
  },
  "language_info": {
   "codemirror_mode": {
    "name": "ipython",
    "version": 3
   },
   "file_extension": ".py",
   "mimetype": "text/x-python",
   "name": "python",
   "nbconvert_exporter": "python",
   "pygments_lexer": "ipython3",
   "version": "3.8.3"
  }
 },
 "nbformat": 4,
 "nbformat_minor": 4
}
