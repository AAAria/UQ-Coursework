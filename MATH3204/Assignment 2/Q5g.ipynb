{
 "cells": [
  {
   "cell_type": "markdown",
   "metadata": {},
   "source": [
    "### Q5 (g) "
   ]
  },
  {
   "cell_type": "code",
   "execution_count": 1,
   "metadata": {},
   "outputs": [],
   "source": [
    "import time\n",
    "import numpy as np\n",
    "from scipy import sparse\n",
    "from scipy.sparse import spdiags\n",
    "from scipy.sparse import kron\n",
    "from scipy.sparse import eye\n",
    "from scipy.sparse import linalg\n",
    "from scipy.sparse.linalg import eigs"
   ]
  },
  {
   "cell_type": "code",
   "execution_count": 2,
   "metadata": {},
   "outputs": [],
   "source": [
    "def lcd(beta, gamma, N):\n",
    "    ee = np.ones((1,N))\n",
    "    a = 5\n",
    "    b = -1 - gamma\n",
    "    c = -1 - beta\n",
    "    d = -1 + beta\n",
    "    e = -1 + gamma\n",
    "    t1 = sparse.spdiags(np.vstack([c*ee, a*ee, d*ee]), np.arange(-1,2), N, N)\n",
    "    t2 = sparse.spdiags(np.vstack([b*ee, np.zeros((1,N)), e*ee]), np.arange(-1,2), N, N)\n",
    "    matrix = sparse.kron(sparse.eye(N,N),t1) + sparse.kron(t2,sparse.eye(N,N))\n",
    "    return matrix"
   ]
  },
  {
   "cell_type": "code",
   "execution_count": 3,
   "metadata": {},
   "outputs": [],
   "source": [
    "tol = 1e-12 # tolerance of errors\n",
    "A = lcd(0,0,50)\n",
    "\n",
    "vals, vecs = np.linalg.eig(A.toarray())\n",
    "alpha = 2/(max(vals) + min(vals))\n",
    "\n",
    "step_sizes = [alpha,0.5*alpha, 1.1*alpha] # step sizes\n",
    "iterations = []\n",
    "cost_time = []\n",
    "residuals = []"
   ]
  },
  {
   "cell_type": "code",
   "execution_count": 4,
   "metadata": {},
   "outputs": [],
   "source": [
    "for h in step_sizes:\n",
    "    x = np.zeros((2500,1))\n",
    "    b = np.ones((2500,1))\n",
    "    e_norm = np.linalg.norm(b - A*x)\n",
    "    k = 0\n",
    "    start = time.time()\n",
    "    while e_norm >= tol and k < 20000:\n",
    "        r = b - A*x\n",
    "        x = x + h * r\n",
    "        e_norm = np.linalg.norm(r)\n",
    "        k = k + 1\n",
    "    end = time.time()\n",
    "    cost_time.append(end - start)\n",
    "    iterations.append(k)\n",
    "    residuals.append(e_norm)"
   ]
  },
  {
   "cell_type": "code",
   "execution_count": 5,
   "metadata": {},
   "outputs": [
    {
     "name": "stdout",
     "output_type": "stream",
     "text": [
      "[(0.2000000000000007+0j), (0.10000000000000035+0j), (0.2200000000000008+0j)]\n",
      "[8.683687935579432e-13, 9.307566761471406e-13, 9.936025672030614e-13]\n",
      "[0.01695418357849121, 0.03390908241271973, 0.0638282299041748]\n",
      "[141, 297, 698]\n"
     ]
    }
   ],
   "source": [
    "print(step_sizes)\n",
    "print(residuals)\n",
    "print(cost_time)\n",
    "print(iterations)"
   ]
  },
  {
   "cell_type": "markdown",
   "metadata": {},
   "source": [
    "The step size of alpha_optimal has the best performance which takes much fewer iterations than the other two step sizes."
   ]
  },
  {
   "cell_type": "code",
   "execution_count": null,
   "metadata": {},
   "outputs": [],
   "source": []
  }
 ],
 "metadata": {
  "kernelspec": {
   "display_name": "Python 3",
   "language": "python",
   "name": "python3"
  },
  "language_info": {
   "codemirror_mode": {
    "name": "ipython",
    "version": 3
   },
   "file_extension": ".py",
   "mimetype": "text/x-python",
   "name": "python",
   "nbconvert_exporter": "python",
   "pygments_lexer": "ipython3",
   "version": "3.8.3"
  }
 },
 "nbformat": 4,
 "nbformat_minor": 4
}
