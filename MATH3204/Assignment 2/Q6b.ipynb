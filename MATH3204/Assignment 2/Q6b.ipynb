{
 "cells": [
  {
   "cell_type": "markdown",
   "metadata": {},
   "source": [
    "### Q6 (b)"
   ]
  },
  {
   "cell_type": "code",
   "execution_count": 1,
   "metadata": {},
   "outputs": [],
   "source": [
    "import numpy as np\n",
    "from numpy import linalg\n",
    "import matplotlib.pyplot as plt"
   ]
  },
  {
   "cell_type": "code",
   "execution_count": 2,
   "metadata": {},
   "outputs": [],
   "source": [
    "d = np.arange(1,33)\n",
    "A = np.diag(d) \n",
    "vals, vecs = np.linalg.eig(A)\n",
    "d_val = max(vals)\n",
    "I = np.identity(32) # Identity matrix"
   ]
  },
  {
   "cell_type": "code",
   "execution_count": 3,
   "metadata": {},
   "outputs": [],
   "source": [
    "# parameter is 33\n",
    "x = np.ones((32,1))\n",
    "error = 1\n",
    "error1 = []\n",
    "iteration1 = []\n",
    "n1 = 0\n",
    "while error >= 1e-12:\n",
    "    y = linalg.inv((A-33*I))*x\n",
    "    x = y/np.linalg.norm(y)\n",
    "    r = np.dot(x,A*x)\n",
    "    error = abs(max(r[-1]) - d_val)\n",
    "    error1.append(error)\n",
    "    n1 = n1 + 1\n",
    "    iteration1.append(n1)"
   ]
  },
  {
   "cell_type": "code",
   "execution_count": 4,
   "metadata": {},
   "outputs": [],
   "source": [
    "# parameter is 35\n",
    "x = np.ones((32,1))\n",
    "error = 1\n",
    "error2 = []\n",
    "iteration2 = []\n",
    "n2 = 0\n",
    "while error >= 1e-9:\n",
    "    y = linalg.inv((A-35*I))*x\n",
    "    x = y/np.linalg.norm(y)\n",
    "    r = np.dot(x,A*x)\n",
    "    error = abs(max(r[-1]) - d_val)\n",
    "    error2.append(error)\n",
    "    n2 = n2 + 1\n",
    "    iteration2.append(n2)"
   ]
  },
  {
   "cell_type": "code",
   "execution_count": 5,
   "metadata": {},
   "outputs": [
    {
     "name": "stdout",
     "output_type": "stream",
     "text": [
      "When the shift parameter is 33, it takes 23 iterations\n",
      "When the shift parameter is 35, it takes 43 iterations\n"
     ]
    },
    {
     "data": {
      "image/png": "[encoded data removed]",
      "text/plain": [
       "<Figure size 432x288 with 1 Axes>"
      ]
     },
     "metadata": {
      "needs_background": "light"
     },
     "output_type": "display_data"
    }
   ],
   "source": [
    "plt.xlabel('iteration')\n",
    "plt.ylabel('abs error')\n",
    "plt.plot(iteration1,error1, 'r',label='33')\n",
    "plt.plot(iteration2,error2, 'b',label='35')\n",
    "plt.legend(loc='best')\n",
    "\n",
    "print('When the shift parameter is 33, it takes', n1, 'iterations')\n",
    "print('When the shift parameter is 35, it takes', n2, 'iterations')"
   ]
  },
  {
   "cell_type": "markdown",
   "metadata": {},
   "source": [
    "Since 33 is closed to the largest eigenvalue of A which is 32, it is more efficient than 35. "
   ]
  },
  {
   "cell_type": "code",
   "execution_count": null,
   "metadata": {},
   "outputs": [],
   "source": []
  }
 ],
 "metadata": {
  "kernelspec": {
   "display_name": "Python 3",
   "language": "python",
   "name": "python3"
  },
  "language_info": {
   "codemirror_mode": {
    "name": "ipython",
    "version": 3
   },
   "file_extension": ".py",
   "mimetype": "text/x-python",
   "name": "python",
   "nbconvert_exporter": "python",
   "pygments_lexer": "ipython3",
   "version": "3.8.3"
  }
 },
 "nbformat": 4,
 "nbformat_minor": 4
}
