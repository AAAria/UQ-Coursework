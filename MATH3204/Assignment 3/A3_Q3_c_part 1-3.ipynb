{
 "cells": [
  {
   "cell_type": "code",
   "execution_count": 1,
   "metadata": {},
   "outputs": [],
   "source": [
    "import time\n",
    "import numpy as np\n",
    "import scipy as sp\n",
    "from scipy import sparse\n",
    "from scipy.sparse import spdiags\n",
    "from scipy.sparse import kron\n",
    "from scipy.sparse import eye\n",
    "from scipy.sparse import linalg\n",
    "from scipy.sparse.linalg import eigs\n",
    "from scipy.linalg import block_diag\n",
    "from scipy.linalg import norm\n",
    "from scipy.linalg import solve\n",
    "from typing import Union\n",
    "import matplotlib.pyplot as plt"
   ]
  },
  {
   "cell_type": "code",
   "execution_count": 2,
   "metadata": {},
   "outputs": [],
   "source": [
    "# Generate the matirx A\n",
    "def lcd(beta, gamma, N):\n",
    "    ee = np.ones((1,N))\n",
    "    a = 5\n",
    "    b = -1 - gamma\n",
    "    c = -1 - beta\n",
    "    d = -1 + beta\n",
    "    e = -1 + gamma\n",
    "    t1 = sparse.spdiags(np.vstack([c*ee, a*ee, d*ee]), np.arange(-1,2), N, N)\n",
    "    t2 = sparse.spdiags(np.vstack([b*ee, np.zeros((1,N)), e*ee]), np.arange(-1,2), N, N)\n",
    "    matrix = sparse.kron(sparse.eye(N,N),t1) + sparse.kron(t2,sparse.eye(N,N))\n",
    "    return matrix\n",
    "\n",
    "A = lcd(0.1, 0.1, 20).todense()\n",
    "\n",
    "def sign(x):\n",
    "    if x == 0: \n",
    "        return 0\n",
    "    if x > 0:\n",
    "        return 1\n",
    "    else:\n",
    "        return -1"
   ]
  },
  {
   "cell_type": "code",
   "execution_count": 3,
   "metadata": {},
   "outputs": [],
   "source": [
    "def householder(A) -> Union[sp.matrix, sp.matrix]:\n",
    "    m, n = A.shape # m*n matrix A\n",
    "    R = sp.ndarray(A.shape)\n",
    "    Q = sp.identity(m)\n",
    "    eR = A.copy()\n",
    "\n",
    "    for i in range(min(A.shape)):\n",
    "        a = eR[:, 0] \n",
    "        e1 = sp.zeros(a.shape[0], dtype='float32')\n",
    "        e1[0] = 1 \n",
    "        \n",
    "        # householder\n",
    "        u = a + sign(a.item(0)) * norm(a) * e1 \n",
    "        u = u / norm(u)\n",
    "        H4 = sp.identity(a.shape[0]) - 2 * sp.outer(u, u) \n",
    "        H = block_diag(np.identity(i), H4)\n",
    "\n",
    "        Q = H @ Q\n",
    "        eR = H4 @ eR\n",
    "\n",
    "        R[i,i:] = eR[0,:]\n",
    "        R[i:,i] = eR[:,0]\n",
    "        eR = eR[1:,1:]\n",
    "        \n",
    "    Q = Q.T # transpose of Q\n",
    "    Q = Q[:, :n]\n",
    "    R = R[:n, :]\n",
    "    return (Q, R)"
   ]
  },
  {
   "cell_type": "code",
   "execution_count": 4,
   "metadata": {},
   "outputs": [],
   "source": [
    "def full_gmres(A, b, x0):\n",
    "    \n",
    "    m, n = A.shape\n",
    "    r0 = b - A @ x0\n",
    "    r0_norm = norm(r0)    \n",
    "    q1 = r0 / r0_norm\n",
    "    H = sp.ndarray((1, 0))\n",
    "    Q = q1.reshape((n, 1))\n",
    "    b_norm = norm(b)\n",
    "    \n",
    "    k = 0\n",
    "    while True:\n",
    "        k += 1\n",
    "        h = sp.ndarray((k, 1))\n",
    "        \n",
    "        # Arnoldi Process\n",
    "        j = k\n",
    "        qj = Q[:,j-1]\n",
    "        z = A @ qj\n",
    "        for i in range(j):\n",
    "            qi = Q[:, i]\n",
    "            h[i, 0] = (qi.T @ z).item()\n",
    "            z -= h[i, 0] * qi \n",
    "        hn = norm(z)\n",
    "        qn= z / hn\n",
    "        \n",
    "        H = sp.block([[H, h],[sp.zeros((1, H.shape[1])), hn]])\n",
    "\n",
    "        e1 = sp.zeros((k+1, 1))\n",
    "        e1[0,0] = 1\n",
    "        U, R = householder(H)\n",
    "        yj = solve(R, norm(r0) * U.T @ e1)\n",
    "        xj = x0 + Q @ yj # derive result\n",
    "        \n",
    "        Q = sp.hstack([Q, qn])\n",
    "        rj_norm = r0_norm * sp.sqrt(1 - norm(U.T @ e1)**2)\n",
    "        res1.append(rj_norm/b_norm) # record residuals\n",
    "\n",
    "        if k > 1000:\n",
    "            print('terminating from iteration limit')\n",
    "            break \n",
    "        if rj_norm / b_norm <= 10**-6:\n",
    "            print('terminating from residual norm')\n",
    "            break"
   ]
  },
  {
   "cell_type": "code",
   "execution_count": 5,
   "metadata": {
    "scrolled": true
   },
   "outputs": [
    {
     "name": "stderr",
     "output_type": "stream",
     "text": [
      "<ipython-input-5-f7625e71164f>:3: DeprecationWarning: scipy.ones is deprecated and will be removed in SciPy 2.0.0, use numpy.ones instead\n",
      "  b = A @ sp.ones((A.shape[1], 1))\n",
      "<ipython-input-5-f7625e71164f>:4: DeprecationWarning: scipy.zeros is deprecated and will be removed in SciPy 2.0.0, use numpy.zeros instead\n",
      "  x0 = sp.zeros(b.shape)\n",
      "<ipython-input-4-c3f254b74779>:27: DeprecationWarning: scipy.zeros is deprecated and will be removed in SciPy 2.0.0, use numpy.zeros instead\n",
      "  H = sp.block([[H, h],[sp.zeros((1, H.shape[1])), hn]])\n",
      "<ipython-input-4-c3f254b74779>:27: DeprecationWarning: scipy.block is deprecated and will be removed in SciPy 2.0.0, use numpy.block instead\n",
      "  H = sp.block([[H, h],[sp.zeros((1, H.shape[1])), hn]])\n",
      "<ipython-input-4-c3f254b74779>:29: DeprecationWarning: scipy.zeros is deprecated and will be removed in SciPy 2.0.0, use numpy.zeros instead\n",
      "  e1 = sp.zeros((k+1, 1))\n",
      "<ipython-input-3-ea44592c159c>:4: DeprecationWarning: scipy.identity is deprecated and will be removed in SciPy 2.0.0, use numpy.identity instead\n",
      "  Q = sp.identity(m)\n",
      "<ipython-input-3-ea44592c159c>:9: DeprecationWarning: scipy.zeros is deprecated and will be removed in SciPy 2.0.0, use numpy.zeros instead\n",
      "  e1 = sp.zeros(a.shape[0], dtype='float32')\n",
      "<ipython-input-3-ea44592c159c>:15: DeprecationWarning: scipy.identity is deprecated and will be removed in SciPy 2.0.0, use numpy.identity instead\n",
      "  H4 = sp.identity(a.shape[0]) - 2 * sp.outer(u, u)\n",
      "<ipython-input-3-ea44592c159c>:15: DeprecationWarning: scipy.outer is deprecated and will be removed in SciPy 2.0.0, use numpy.outer instead\n",
      "  H4 = sp.identity(a.shape[0]) - 2 * sp.outer(u, u)\n",
      "<ipython-input-4-c3f254b74779>:35: DeprecationWarning: scipy.hstack is deprecated and will be removed in SciPy 2.0.0, use numpy.hstack instead\n",
      "  Q = sp.hstack([Q, qn])\n",
      "<ipython-input-4-c3f254b74779>:36: DeprecationWarning: scipy.sqrt is deprecated and will be removed in SciPy 2.0.0, use numpy.lib.scimath.sqrt instead\n",
      "  rj_norm = r0_norm * sp.sqrt(1 - norm(U.T @ e1)**2)\n"
     ]
    },
    {
     "name": "stdout",
     "output_type": "stream",
     "text": [
      "terminating from residual norm\n"
     ]
    },
    {
     "data": {
      "text/plain": [
       "[<matplotlib.lines.Line2D at 0x11cdcf56f70>]"
      ]
     },
     "execution_count": 5,
     "metadata": {},
     "output_type": "execute_result"
    },
    {
     "data": {
      "image/png": "[encoded data removed]",
      "text/plain": [
       "<Figure size 432x288 with 1 Axes>"
      ]
     },
     "metadata": {
      "needs_background": "light"
     },
     "output_type": "display_data"
    }
   ],
   "source": [
    "# Run and plot my calculation\n",
    "A = lcd(0.1, 0.1, 100).todense()\n",
    "b = A @ sp.ones((A.shape[1], 1))\n",
    "x0 = sp.zeros(b.shape)\n",
    "res1 = []\n",
    "iteration = []\n",
    "result = []\n",
    "\n",
    "full_gmres(A, b, x0)\n",
    "plt.xlabel('iterations')\n",
    "plt.ylabel('residuals')\n",
    "plt.plot(range(len(res1)), res1)"
   ]
  },
  {
   "cell_type": "code",
   "execution_count": 6,
   "metadata": {},
   "outputs": [
    {
     "data": {
      "text/plain": [
       "<matplotlib.legend.Legend at 0x11cdbe467c0>"
      ]
     },
     "execution_count": 6,
     "metadata": {},
     "output_type": "execute_result"
    },
    {
     "data": {
      "image/png": "[encoded data removed]",
      "text/plain": [
       "<Figure size 432x288 with 1 Axes>"
      ]
     },
     "metadata": {
      "needs_background": "light"
     },
     "output_type": "display_data"
    }
   ],
   "source": [
    "# Run GMRES function\n",
    "from scipy.sparse.linalg import gmres\n",
    "def gmres_res(r):\n",
    "    res2.append(np.linalg.norm(r))\n",
    "res2 = []\n",
    "gmres(A, b, x0, callback=gmres_res, tol=1e-6)\n",
    "\n",
    "# Plot the comparation\n",
    "plt.plot(range(len(res1)), res1, label='my result')\n",
    "plt.plot(range(len(res2)), res2, label='gmres')\n",
    "plt.yscale('log')\n",
    "plt.xlabel('iterations')\n",
    "plt.ylabel('residuals')\n",
    "plt.legend()"
   ]
  },
  {
   "cell_type": "code",
   "execution_count": null,
   "metadata": {},
   "outputs": [],
   "source": []
  },
  {
   "cell_type": "code",
   "execution_count": null,
   "metadata": {},
   "outputs": [],
   "source": []
  }
 ],
 "metadata": {
  "kernelspec": {
   "display_name": "Python 3",
   "language": "python",
   "name": "python3"
  },
  "language_info": {
   "codemirror_mode": {
    "name": "ipython",
    "version": 3
   },
   "file_extension": ".py",
   "mimetype": "text/x-python",
   "name": "python",
   "nbconvert_exporter": "python",
   "pygments_lexer": "ipython3",
   "version": "3.8.3"
  }
 },
 "nbformat": 4,
 "nbformat_minor": 4
}
